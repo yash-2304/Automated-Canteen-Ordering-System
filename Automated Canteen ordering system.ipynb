{
  "nbformat": 4,
  "nbformat_minor": 0,
  "metadata": {
    "colab": {
      "provenance": []
    },
    "kernelspec": {
      "name": "python3",
      "display_name": "Python 3"
    },
    "language_info": {
      "name": "python"
    }
  },
  "cells": [
    {
      "cell_type": "code",
      "execution_count": 1,
      "metadata": {
        "colab": {
          "base_uri": "https://localhost:8080/",
          "height": 383
        },
        "id": "78l_mjxpwPPn",
        "outputId": "3eee85b0-7669-4da2-c6b5-bf796372691c"
      },
      "outputs": [
        {
          "output_type": "error",
          "ename": "ModuleNotFoundError",
          "evalue": "No module named 'flask_sqlalchemy'",
          "traceback": [
            "\u001b[0;31m---------------------------------------------------------------------------\u001b[0m",
            "\u001b[0;31mModuleNotFoundError\u001b[0m                       Traceback (most recent call last)",
            "\u001b[0;32m<ipython-input-1-bc407abaa7f2>\u001b[0m in \u001b[0;36m<cell line: 0>\u001b[0;34m()\u001b[0m\n\u001b[1;32m      1\u001b[0m \u001b[0;31m# Import required libraries\u001b[0m\u001b[0;34m\u001b[0m\u001b[0;34m\u001b[0m\u001b[0m\n\u001b[1;32m      2\u001b[0m \u001b[0;32mfrom\u001b[0m \u001b[0mflask\u001b[0m \u001b[0;32mimport\u001b[0m \u001b[0mFlask\u001b[0m\u001b[0;34m,\u001b[0m \u001b[0mrequest\u001b[0m\u001b[0;34m,\u001b[0m \u001b[0mjsonify\u001b[0m\u001b[0;34m\u001b[0m\u001b[0;34m\u001b[0m\u001b[0m\n\u001b[0;32m----> 3\u001b[0;31m \u001b[0;32mfrom\u001b[0m \u001b[0mflask_sqlalchemy\u001b[0m \u001b[0;32mimport\u001b[0m \u001b[0mSQLAlchemy\u001b[0m\u001b[0;34m\u001b[0m\u001b[0;34m\u001b[0m\u001b[0m\n\u001b[0m\u001b[1;32m      4\u001b[0m \u001b[0;34m\u001b[0m\u001b[0m\n\u001b[1;32m      5\u001b[0m \u001b[0;31m# Initialize Flask app\u001b[0m\u001b[0;34m\u001b[0m\u001b[0;34m\u001b[0m\u001b[0m\n",
            "\u001b[0;31mModuleNotFoundError\u001b[0m: No module named 'flask_sqlalchemy'",
            "",
            "\u001b[0;31m---------------------------------------------------------------------------\u001b[0;32m\nNOTE: If your import is failing due to a missing package, you can\nmanually install dependencies using either !pip or !apt.\n\nTo view examples of installing some common dependencies, click the\n\"Open Examples\" button below.\n\u001b[0;31m---------------------------------------------------------------------------\u001b[0m\n"
          ],
          "errorDetails": {
            "actions": [
              {
                "action": "open_url",
                "actionText": "Open Examples",
                "url": "/notebooks/snippets/importing_libraries.ipynb"
              }
            ]
          }
        }
      ],
      "source": [
        "# Import required libraries\n",
        "from flask import Flask, request, jsonify\n",
        "from flask_sqlalchemy import SQLAlchemy\n",
        "\n",
        "# Initialize Flask app\n",
        "app = Flask(__name__)\n",
        "\n",
        "# Configure SQLite database\n",
        "app.config['SQLALCHEMY_DATABASE_URI'] = 'sqlite:///canteen_orders.db'\n",
        "app.config['SQLALCHEMY_TRACK_MODIFICATIONS'] = False\n",
        "db = SQLAlchemy(app)\n",
        "\n",
        "# Define Order model\n",
        "class Order(db.Model):\n",
        "    id = db.Column(db.Integer, primary_key=True)\n",
        "    customer_name = db.Column(db.String(100), nullable=False)\n",
        "    item = db.Column(db.String(100), nullable=False)\n",
        "    quantity = db.Column(db.Integer, nullable=False)\n",
        "\n",
        "    def __repr__(self):\n",
        "        return f\"<Order {self.customer_name} ordered {self.quantity} x {self.item}>\"\n",
        "\n",
        "# Create database tables\n",
        "@app.before_first_request\n",
        "def create_tables():\n",
        "    db.create_all()\n",
        "\n",
        "# API endpoint to place orders\n",
        "@app.route('/order', methods=['POST'])\n",
        "def place_order():\n",
        "    data = request.get_json()\n",
        "\n",
        "    # Basic validation\n",
        "    if not all(k in data for k in (\"customer_name\", \"item\", \"quantity\")):\n",
        "        return jsonify({\"error\": \"Missing fields in request\"}), 400\n",
        "\n",
        "    try:\n",
        "        order = Order(\n",
        "            customer_name=data['customer_name'],\n",
        "            item=data['item'],\n",
        "            quantity=int(data['quantity'])\n",
        "        )\n",
        "        db.session.add(order)\n",
        "        db.session.commit()\n",
        "        return jsonify({\"message\": \"Order placed successfully\"}), 201\n",
        "    except Exception as e:\n",
        "        return jsonify({\"error\": str(e)}), 500\n",
        "\n",
        "# API endpoint to view all orders\n",
        "@app.route('/orders', methods=['GET'])\n",
        "def get_orders():\n",
        "    orders = Order.query.all()\n",
        "    result = [{\n",
        "        \"id\": order.id,\n",
        "        \"customer_name\": order.customer_name,\n",
        "        \"item\": order.item,\n",
        "        \"quantity\": order.quantity\n",
        "    } for order in orders]\n",
        "    return jsonify(result), 200\n",
        "\n",
        "# Run the Flask app\n",
        "if __name__ == '__main__':\n",
        "    app.run(debug=True, port=5001)\n"
      ]
    }
  ]
}